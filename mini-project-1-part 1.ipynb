{
 "cells": [
  {
   "cell_type": "code",
   "execution_count": 8,
   "metadata": {},
   "outputs": [],
   "source": [
    "import requests as re\n",
    "import json"
   ]
  },
  {
   "cell_type": "code",
   "execution_count": 9,
   "metadata": {},
   "outputs": [],
   "source": [
    "# Class and methods of class to avoid repetitions\n",
    "class RequestUrl:\n",
    "    url =''\n",
    "    def LoadingUrl(self):\n",
    "        url = self.url\n",
    "        res = re.get(url)\n",
    "        if res.status_code!=200:\n",
    "            return \"someting wrong\"\n",
    "        else:\n",
    "            json=res.json()\n",
    "        return json"
   ]
  },
  {
   "cell_type": "code",
   "execution_count": 10,
   "metadata": {},
   "outputs": [
    {
     "name": "stdout",
     "output_type": "stream",
     "text": [
      "Forcasting for tommorow : Rather cool-feeling as Greater London is affected by a flow of northerly air coming down across the North Sea from Scandinavia. Given this path, little by way of imported pollution is expected and a steady breeze should give good dispersion of local emissions. &lt;br/&gt; &lt;br/&gt;Air pollution is expected to remain &#39;Low&#39; for the following pollutants:&lt;br/&gt;&lt;br/&gt;Nitrogen Dioxide&lt;br/&gt;Ozone&lt;br/&gt;PM10 Particulate&lt;br/&gt;PM2.5 Particulate&lt;br/&gt;Sulphur Dioxide&lt;br/&gt;&lt;br/&gt;&lt;br/&gt;&lt;br/&gt;&lt;br/&gt;&lt;br/&gt;&lt;br/&gt;&lt;br/&gt;&lt;br/&gt;\n"
     ]
    }
   ],
   "source": [
    "objAir = RequestUrl()\n",
    "objAir.url=\"https://api.tfl.gov.uk/AirQuality\"\n",
    "json=objAir.LoadingUrl()\n",
    "print(\"Forcasting for tommorow :\",json['currentForecast'][0]['forecastText'])"
   ]
  },
  {
   "cell_type": "code",
   "execution_count": null,
   "metadata": {},
   "outputs": [],
   "source": []
  },
  {
   "cell_type": "code",
   "execution_count": 11,
   "metadata": {},
   "outputs": [
    {
     "name": "stdout",
     "output_type": "stream",
     "text": [
      "['black-cab-as-customer', 'black-cab-as-driver', 'bus', 'cable-car', 'coach', 'cycle', 'cycle-hire', 'dlr', 'electric-car', 'goods-vehicle-as-driver', 'interchange-keep-sitting', 'interchange-secure', 'international-rail', 'motorbike-scooter', 'national-rail', 'overground', 'plane', 'private-car', 'private-coach-as-customer', 'private-coach-as-driver', 'private-hire-as-customer', 'private-hire-as-driver', 'replacement-bus', 'river-bus', 'river-tour', 'taxi', 'tflrail', 'tram', 'tube', 'walking']\n",
      "\n",
      "\n",
      "Total number of Modes:= 30\n"
     ]
    }
   ],
   "source": [
    "objMode = RequestUrl()\n",
    "objMode.url=\"https://api.tfl.gov.uk/Journey/Meta/Modes\"\n",
    "json = objMode.LoadingUrl()\n",
    "mylist=[]\n",
    "for items in json:\n",
    "    mylist.append(items['modeName'])\n",
    "print(mylist)\n",
    "print(\"\\n\")\n",
    "print(\"Total number of Modes:=\",len(mylist))"
   ]
  },
  {
   "cell_type": "code",
   "execution_count": 12,
   "metadata": {},
   "outputs": [
    {
     "name": "stdout",
     "output_type": "stream",
     "text": [
      "Count BikePoints: 788\n"
     ]
    },
    {
     "ename": "NameError",
     "evalue": "name 'totalNBdocks' is not defined",
     "output_type": "error",
     "traceback": [
      "\u001b[0;31m---------------------------------------------------------------------------\u001b[0m",
      "\u001b[0;31mNameError\u001b[0m                                 Traceback (most recent call last)",
      "\u001b[0;32m<ipython-input-12-5012436b8fe6>\u001b[0m in \u001b[0;36m<module>\u001b[0;34m\u001b[0m\n\u001b[1;32m     13\u001b[0m      \u001b[0mtotalNbDocks\u001b[0m\u001b[0;34m=\u001b[0m\u001b[0mtotalNbDocks\u001b[0m\u001b[0;34m+\u001b[0m\u001b[0mint\u001b[0m\u001b[0;34m(\u001b[0m\u001b[0mjson\u001b[0m\u001b[0;34m[\u001b[0m\u001b[0mi\u001b[0m\u001b[0;34m]\u001b[0m\u001b[0;34m[\u001b[0m\u001b[0;34m'additionalProperties'\u001b[0m\u001b[0;34m]\u001b[0m\u001b[0;34m[\u001b[0m\u001b[0;34m-\u001b[0m\u001b[0;36m1\u001b[0m\u001b[0;34m]\u001b[0m\u001b[0;34m[\u001b[0m\u001b[0;34m'value'\u001b[0m\u001b[0;34m]\u001b[0m\u001b[0;34m)\u001b[0m\u001b[0;34m\u001b[0m\u001b[0;34m\u001b[0m\u001b[0m\n\u001b[1;32m     14\u001b[0m      \u001b[0mtotalNbEmptydocks\u001b[0m\u001b[0;34m=\u001b[0m\u001b[0mtotalNbEmptydocks\u001b[0m\u001b[0;34m+\u001b[0m\u001b[0mint\u001b[0m\u001b[0;34m(\u001b[0m\u001b[0mjson\u001b[0m\u001b[0;34m[\u001b[0m\u001b[0mi\u001b[0m\u001b[0;34m]\u001b[0m\u001b[0;34m[\u001b[0m\u001b[0;34m'additionalProperties'\u001b[0m\u001b[0;34m]\u001b[0m\u001b[0;34m[\u001b[0m\u001b[0;34m-\u001b[0m\u001b[0;36m2\u001b[0m\u001b[0;34m]\u001b[0m\u001b[0;34m[\u001b[0m\u001b[0;34m'value'\u001b[0m\u001b[0;34m]\u001b[0m\u001b[0;34m)\u001b[0m\u001b[0;34m\u001b[0m\u001b[0;34m\u001b[0m\u001b[0m\n\u001b[0;32m---> 15\u001b[0;31m      \u001b[0mc\u001b[0m\u001b[0;34m=\u001b[0m \u001b[0mtotalNbDocks\u001b[0m\u001b[0;34m+\u001b[0m\u001b[0mtotalNBdocks\u001b[0m\u001b[0;34m\u001b[0m\u001b[0;34m\u001b[0m\u001b[0m\n\u001b[0m\u001b[1;32m     16\u001b[0m \u001b[0mprint\u001b[0m\u001b[0;34m(\u001b[0m\u001b[0;34m\"Total number Of Full docks and Empty Docks: \"\u001b[0m\u001b[0;34m,\u001b[0m\u001b[0mc\u001b[0m\u001b[0;34m)\u001b[0m\u001b[0;34m\u001b[0m\u001b[0;34m\u001b[0m\u001b[0m\n",
      "\u001b[0;31mNameError\u001b[0m: name 'totalNBdocks' is not defined"
     ]
    }
   ],
   "source": [
    "objBike = RequestUrl()\n",
    "objBike.url=\"https://api.tfl.gov.uk/BikePoint/\"\n",
    "json=objBike.LoadingUrl()\n",
    "print(f'Count BikePoints: {len(json)}')\n",
    "\n",
    "# The purpose of -1 means(firstlast) and -2 (secondlast) to track the locations\n",
    "# print(json[1]['additionalProperties'][-1])\n",
    "# print(json[1]['additionalProperties'][-2])\n",
    "\n",
    "totalNbDocks=0\n",
    "totalNbEmptydocks =0\n",
    "for i in range(len(json)):\n",
    "     totalNbDocks=totalNbDocks+int(json[i]['additionalProperties'][-1]['value'])\n",
    "     totalNbEmptydocks=totalNbEmptydocks+int(json[i]['additionalProperties'][-2]['value'])\n",
    "     c= totalNbDocks+totalNBdocks\n",
    "print(\"Total number Of Full docks and Empty Docks: \",c)\n"
   ]
  },
  {
   "cell_type": "code",
   "execution_count": null,
   "metadata": {},
   "outputs": [],
   "source": []
  },
  {
   "cell_type": "code",
   "execution_count": 28,
   "metadata": {},
   "outputs": [
    {
     "name": "stdout",
     "output_type": "stream",
     "text": [
      "Count tube lines: 11\n",
      "Count bus lines: 679\n",
      "\n",
      "Tube Line Names:\n",
      "bakerloo\n",
      "central\n",
      "circle\n",
      "district\n",
      "hammersmith-city\n",
      "jubilee\n",
      "metropolitan\n",
      "northern\n",
      "piccadilly\n",
      "victoria\n",
      "waterloo-city\n"
     ]
    }
   ],
   "source": [
    "objtube = RequestUrl()\n",
    "objtube.url=\"https://api.tfl.gov.uk/BikePoint/\"\n",
    "jsonTube=objtube.LoadingUrl()\n",
    "print(f'Count tube lines: {len(jsonTube)}')\n",
    "\n",
    "objBus = RequestUrl()\n",
    "objBus.url=\"https://api.tfl.gov.uk/Line/Mode/bus\"\n",
    "jsonBus=objBus.LoadingUrl()\n",
    "print(f'Count bus lines: {len(jsonBus)}')\n",
    "print('\\nTube Line Names:')\n",
    "for i in range(len(jsonTube)):\n",
    "    print(jsonTube[i]['id'])\n"
   ]
  },
  {
   "cell_type": "code",
   "execution_count": 79,
   "metadata": {},
   "outputs": [
    {
     "name": "stdout",
     "output_type": "stream",
     "text": [
      "Count Victoria lines: 16\n",
      "\n",
      "\n",
      "Blackhorse Road Underground Station\n",
      "Brixton Underground Station\n",
      "Euston Underground Station\n",
      "Finsbury Park Underground Station\n",
      "Green Park Underground Station\n",
      "Highbury & Islington Underground Station\n",
      "King's Cross St. Pancras Underground Station\n",
      "Oxford Circus Underground Station\n",
      "Pimlico Underground Station\n",
      "Stockwell Underground Station\n",
      "Seven Sisters Underground Station\n",
      "Tottenham Hale Underground Station\n",
      "Victoria Underground Station\n",
      "Vauxhall Underground Station\n",
      "Warren Street Underground Station\n",
      "Walthamstow Central Underground Station\n"
     ]
    }
   ],
   "source": [
    "objVictoria = RequestUrl()\n",
    "objVictoria.url=\"https://api.tfl.gov.uk/Line/victoria/stoppoints\"\n",
    "jsonVictoria=objVictoria.LoadingUrl()\n",
    "print(f'Count Victoria lines: {len(jsonVictoria)}')\n",
    "print('\\n')\n",
    "for i in range(len(jsonVictoria)):\n",
    "    print(json[i]['commonName'])"
   ]
  },
  {
   "cell_type": "code",
   "execution_count": 23,
   "metadata": {},
   "outputs": [
    {
     "name": "stdout",
     "output_type": "stream",
     "text": [
      "Tube 92\n",
      "Bus :-> 189\n"
     ]
    }
   ],
   "source": [
    "objtube = RequestUrl()\n",
    "objtube.url=\"https://api.tfl.gov.uk/Journey/JourneyResults/TW62GA/to/SE14TW?mode=tube\"\n",
    "jsonTube=objtube.LoadingUrl()\n",
    "# print(\"Tube minutes:->\",jsonTube[0])\n",
    "print(\"Tube\",jsonTube['journeys'][0]['duration'])\n",
    "\n",
    "objBus = RequestUrl()\n",
    "objBus.url=\"https://api.tfl.gov.uk/Journey/JourneyResults/TW62GA/to/SE14TW?mode=bus\"\n",
    "jsonBus=objBus.LoadingUrl()\n",
    "print(\"Bus :->\",jsonBus['journeys'][0]['duration'])\n"
   ]
  },
  {
   "cell_type": "code",
   "execution_count": null,
   "metadata": {},
   "outputs": [],
   "source": [
    "\n"
   ]
  },
  {
   "cell_type": "code",
   "execution_count": null,
   "metadata": {},
   "outputs": [],
   "source": []
  },
  {
   "cell_type": "code",
   "execution_count": null,
   "metadata": {},
   "outputs": [],
   "source": []
  },
  {
   "cell_type": "code",
   "execution_count": null,
   "metadata": {},
   "outputs": [],
   "source": []
  }
 ],
 "metadata": {
  "kernelspec": {
   "display_name": "Python 3",
   "language": "python",
   "name": "python3"
  },
  "language_info": {
   "codemirror_mode": {
    "name": "ipython",
    "version": 3
   },
   "file_extension": ".py",
   "mimetype": "text/x-python",
   "name": "python",
   "nbconvert_exporter": "python",
   "pygments_lexer": "ipython3",
   "version": "3.8.5"
  }
 },
 "nbformat": 4,
 "nbformat_minor": 4
}
